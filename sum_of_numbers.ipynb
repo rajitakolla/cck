{
  "nbformat": 4,
  "nbformat_minor": 0,
  "metadata": {
    "colab": {
      "name": "sum_of numbers.ipynb",
      "provenance": [],
      "authorship_tag": "ABX9TyM8enT5LYk7mqOeE1332BZb",
      "include_colab_link": true
    },
    "kernelspec": {
      "name": "python3",
      "display_name": "Python 3"
    }
  },
  "cells": [
    {
      "cell_type": "markdown",
      "metadata": {
        "id": "view-in-github",
        "colab_type": "text"
      },
      "source": [
        "<a href=\"https://colab.research.google.com/github/rajitakolla/cck/blob/main/sum_of_numbers.ipynb\" target=\"_parent\"><img src=\"https://colab.research.google.com/assets/colab-badge.svg\" alt=\"Open In Colab\"/></a>"
      ]
    },
    {
      "cell_type": "code",
      "metadata": {
        "id": "hEmafZd-ZCFu"
      },
      "source": [
        "def sum_of_numbers(ip, l):\r\n",
        "  if(l<=0):\r\n",
        "    return ip[l];\r\n",
        "  return ip[deeee]+sum_of_numbers(ip,l-1)\r\n",
        "  pass"
      ],
      "execution_count": null,
      "outputs": []
    },
    {
      "cell_type": "code",
      "metadata": {
        "colab": {
          "base_uri": "https://localhost:8080/"
        },
        "id": "_83zbkJ8ZMBS",
        "outputId": "242edf7e-fb75-4c93-dcf1-43809c2492a6"
      },
      "source": [
        "sum_of_numbers([1,2,3,4,5,67,1],6)\r\n",
        "\r\n",
        "\r\n"
      ],
      "execution_count": null,
      "outputs": [
        {
          "output_type": "execute_result",
          "data": {
            "text/plain": [
              "83"
            ]
          },
          "metadata": {
            "tags": []
          },
          "execution_count": 9
        }
      ]
    }
  ]
}